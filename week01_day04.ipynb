{
  "nbformat": 4,
  "nbformat_minor": 0,
  "metadata": {
    "colab": {
      "provenance": [],
      "include_colab_link": true
    },
    "kernelspec": {
      "name": "python3",
      "display_name": "Python 3"
    },
    "language_info": {
      "name": "python"
    }
  },
  "cells": [
    {
      "cell_type": "markdown",
      "metadata": {
        "id": "view-in-github",
        "colab_type": "text"
      },
      "source": [
        "<a href=\"https://colab.research.google.com/github/0like2/kakaobootcamp/blob/main/week01_day04.ipynb\" target=\"_parent\"><img src=\"https://colab.research.google.com/assets/colab-badge.svg\" alt=\"Open In Colab\"/></a>"
      ]
    },
    {
      "cell_type": "markdown",
      "source": [
        "# 파이썬 프로그래밍 II 종합 실습\n",
        "\n",
        "collections 모듈, comprehension, logging, 정규표현식, 멀티스레딩, 멀티프로세싱을 활용합니다.\n",
        "\n"
      ],
      "metadata": {
        "id": "o2A6nokuDOFH"
      }
    },
    {
      "cell_type": "markdown",
      "source": [
        "과제 1: Collections 모듈 활용\n",
        "\n",
        "EXAMPLE_SEQUENCE 값을 활용해보세요.\n",
        "\n",
        "1. Deque: Deque를 생성하고, 요소를 추가하고 제거하는 작업을 해보세요.\n",
        "\n",
        "2. Namedtuple: Namedtuple을 정의하고 인스턴스를 생성해보세요.\n",
        "\n",
        "3. Defaultdict: Defaultdict를 사용해보세요. 키가 없을 때 기본값을 설정하세요.\n",
        "\n",
        "4. Counter: Counter를 사용해 리스트에서 각 요소의 빈도를 세어보세요."
      ],
      "metadata": {
        "id": "wSeIu_4nDSsP"
      }
    },
    {
      "cell_type": "code",
      "execution_count": null,
      "metadata": {
        "id": "DOHabDfaDMyp"
      },
      "outputs": [],
      "source": [
        "EXAMPLE_SEQUENCE = ['dog', 'cat', 'mouse', 'parrot', 'frog']"
      ]
    },
    {
      "cell_type": "markdown",
      "source": [
        "Deque: Deque를 생성하고, 요소를 추가하고 제거하는 작업을 해보세요."
      ],
      "metadata": {
        "id": "hY-7J1nxMlLe"
      }
    },
    {
      "cell_type": "code",
      "source": [
        "from collections import deque\n",
        "\n",
        "dq = deque(['dog', 'cat', 'mouse', 'parrot', 'frog'])\n",
        "dq.append('lion')\n",
        "print(dq)\n",
        "dq.popleft()\n",
        "print(dq)"
      ],
      "metadata": {
        "colab": {
          "base_uri": "https://localhost:8080/"
        },
        "id": "32JCNB-IMUqS",
        "outputId": "660ddd45-487c-46a8-c126-5627d38ebeac"
      },
      "execution_count": 6,
      "outputs": [
        {
          "output_type": "stream",
          "name": "stdout",
          "text": [
            "deque(['dog', 'cat', 'mouse', 'parrot', 'frog', 'lion'])\n",
            "deque(['cat', 'mouse', 'parrot', 'frog', 'lion'])\n"
          ]
        }
      ]
    },
    {
      "cell_type": "markdown",
      "source": [
        "Namedtuple: Namedtuple을 정의하고 인스턴스를 생성해보세요."
      ],
      "metadata": {
        "id": "rCz8xg8vNPUm"
      }
    },
    {
      "cell_type": "code",
      "source": [
        "from collections import namedtuple\n",
        "\n",
        "Animal = namedtuple('Animal', 'name age')\n",
        "cat = Animal('cat', 3)\n",
        "print(cat)\n",
        "dog = Animal('dog', 5)\n",
        "print(dog)\n",
        "lion = Animal('lion', 10)\n",
        "print(lion)\n"
      ],
      "metadata": {
        "colab": {
          "base_uri": "https://localhost:8080/"
        },
        "id": "Zd2hjediNQut",
        "outputId": "c8c154d3-b030-44a5-bf93-f3594a19c963"
      },
      "execution_count": 9,
      "outputs": [
        {
          "output_type": "stream",
          "name": "stdout",
          "text": [
            "Animal(name='cat', age=3)\n",
            "Animal(name='dog', age=5)\n",
            "Animal(name='lion', age=10)\n"
          ]
        }
      ]
    },
    {
      "cell_type": "markdown",
      "source": [
        "과제 2: Comprehension 활용\n",
        "\n",
        "EXAMPLE_SEQUENCE 값을 활용해보세요.\n",
        "\n",
        "1. 리스트 컴프리헨션: 숫자 리스트의 제곱값을 구하세요.\n",
        "\n",
        "2. 딕셔너리 컴프리헨션: 키가 숫자이고 값이 그 숫자의 제곱인 딕셔너리를 생성하세요.\n",
        "\n",
        "3. 집합 컴프리헨션: 중복된 값을 제거한 제곱값 집합을 생성하세요."
      ],
      "metadata": {
        "id": "VUAClu_dD07F"
      }
    },
    {
      "cell_type": "code",
      "source": [
        "EXAMPLE_SEQUENCE = [1, 4, 12, 9, 22, 5, 1, 9]"
      ],
      "metadata": {
        "id": "UXRdE3o0EDwK"
      },
      "execution_count": null,
      "outputs": []
    },
    {
      "cell_type": "markdown",
      "source": [
        "1. 리스트 컴프리헨션 : 숫자 리스트이 제곱값을 구하세요."
      ],
      "metadata": {
        "id": "U0OGjBnnW_fT"
      }
    },
    {
      "cell_type": "code",
      "source": [
        "numbers = [1,3,5,6,7]\n",
        "squares = [x **2 for x in numbers]\n",
        "print(squares)\n",
        "\n",
        "if_squares = [x for x in numbers if x % 2 == 0]\n",
        "print(if_squares)"
      ],
      "metadata": {
        "colab": {
          "base_uri": "https://localhost:8080/"
        },
        "id": "LHay7fY2XHF-",
        "outputId": "dab9ffa5-cd18-4384-9c9d-cedb435ff715"
      },
      "execution_count": 13,
      "outputs": [
        {
          "output_type": "stream",
          "name": "stdout",
          "text": [
            "[1, 9, 25, 36, 49]\n",
            "[6]\n"
          ]
        }
      ]
    },
    {
      "cell_type": "markdown",
      "source": [
        "\n",
        "딕셔너리 컴프리헨션: 키가 숫자이고 값이 그 숫자의 제곱인 딕셔너리를 생성하세요."
      ],
      "metadata": {
        "id": "px-GVM76YYEB"
      }
    },
    {
      "cell_type": "code",
      "source": [
        "numbers = [1,3,5,6,7]\n",
        "squares = {x : x * x for x in numbers}\n",
        "print(squares)"
      ],
      "metadata": {
        "colab": {
          "base_uri": "https://localhost:8080/"
        },
        "id": "f7xNenY9YgtJ",
        "outputId": "857f2d45-65de-4e1f-b84f-ccbad768e1e5"
      },
      "execution_count": 11,
      "outputs": [
        {
          "output_type": "stream",
          "name": "stdout",
          "text": [
            "{1: 1, 3: 9, 5: 25, 6: 36, 7: 49}\n"
          ]
        }
      ]
    },
    {
      "cell_type": "markdown",
      "source": [
        "\n",
        "집합 컴프리헨션: 중복된 값을 제거한 제곱값 집합을 생성하세요"
      ],
      "metadata": {
        "id": "W4dV61dAYeqs"
      }
    },
    {
      "cell_type": "code",
      "source": [
        "numbers = [1,2,3,4,5]\n",
        "squared = {x**2 for x in numbers }"
      ],
      "metadata": {
        "id": "rJuU5e9PYiGN"
      },
      "execution_count": null,
      "outputs": []
    },
    {
      "cell_type": "markdown",
      "source": [
        "과제 3: Logging 활용\n",
        "\n",
        "1. 기본 로깅 설정: 로깅을 설정하고 정보를 로깅하세요. 로그의 형태는 '시간 - 에러레벨 - 메시지' 입니다.\n",
        "\n",
        "2. 예외 로깅: 예외가 발생했을 때 에러를 로깅하세요."
      ],
      "metadata": {
        "id": "j-42IEV_Ec35"
      }
    },
    {
      "cell_type": "code",
      "source": [
        "import logging\n",
        "\n",
        "logging. basicConfig(leveel = logging.DEBUG, format= '%(asctime)s - %(levelname)s - %(message)s')\n",
        "\n",
        "#로깅 객체 생성\n",
        "logger = logging.getLogger(__name__)\n",
        "\n",
        "def divide(a,b):\n",
        "  try :\n",
        "    result = a/b\n",
        "    logger.info(\"Division successful\")\n",
        "    return result\n",
        "  except Exception as e :\n",
        "    logger.error(\"Division failed - Division by zero\")\n",
        "    raise e\n",
        "\n",
        "print(divide(10,2))\n",
        "print(divide(10,0))"
      ],
      "metadata": {
        "id": "Q7jfbpQTEz8N"
      },
      "execution_count": null,
      "outputs": []
    },
    {
      "cell_type": "markdown",
      "source": [
        "과제 4: 정규 표현식 사용\n",
        "\n",
        "1. 기본 패턴 매칭: 이메일 주소를 추출하세요.\n",
        "\n",
        "2. 기본 패턴 매칭: 비식별화를 진행하세요. ID를 앞 3글자 이외는 모두 '*'로 변경합니다.\n",
        "\n",
        "3. 고급 패턴 매칭: HTML 태그를 제거하세요."
      ],
      "metadata": {
        "id": "VGcHabOVE4mI"
      }
    },
    {
      "cell_type": "code",
      "source": [
        "email = \"MY name is Jhin, my email is kakaotech@goorm.io\"\n",
        "id_list = [\"jhin.lee\", \"lovelove123\", \"세종대왕만세!!\", \"twin에너지123\", \"PostModern\"]\n",
        "html = \"<p>Hello, <b>World!</b></p>\"\n",
        "\n",
        "import re\n",
        "#이메일 추출\n",
        "pattern = r'\\b[A-Za-z0-9._%+-]+@[A-Za-z0-9.-]+\\.[A-Z|a-z]{2,}\\b'\n",
        "matches = re.findall(pattern, email)\n",
        "print(\"이메일\" , matches)\n",
        "\n",
        "#비식별화\n",
        "pattern_2 = re.compile(r'^(.{3}).*')\n",
        "deidentified =[pattern_2.sub(lambda m: m.group(1) + '*' * (len(m.group(0)) - 3), id) for id in id_list]\n",
        "print(deidentified)\n",
        "\n",
        "# HTML 태그 제거\n",
        "pattern_3 = r\"<.*?>\"\n",
        "clean_text = re.sub(pattern_3, \"\", html)\n",
        "print(\"태그 제거 후 텍스트:\", clean_text)"
      ],
      "metadata": {
        "id": "I-9AqxWWE59J",
        "colab": {
          "base_uri": "https://localhost:8080/"
        },
        "outputId": "4be68a74-24f5-414b-f0dc-3470f152cc6a"
      },
      "execution_count": 17,
      "outputs": [
        {
          "output_type": "stream",
          "name": "stdout",
          "text": [
            "이메일 ['kakaotech@goorm.io']\n",
            "['jhi*****', 'lov********', '세종대*****', 'twi*******', 'Pos*******']\n",
            "태그 제거 후 텍스트: Hello, World!\n"
          ]
        }
      ]
    },
    {
      "cell_type": "markdown",
      "source": [
        "과제 5: 멀티스레딩과 멀티프로세싱\n",
        "\n",
        "1. 스레딩: 한 개의 스레드를 생성하고 실행하는 함수를 작성해주세요.\n",
        "\n",
        "2. 멀티스레딩: 두 개의 스레드를 생성하고 실행하세요.\n",
        "\n",
        "3. 멀티프로세싱: 두 개의 프로세스를 생성하고 실행하세요."
      ],
      "metadata": {
        "id": "tOrX28FZFOYA"
      }
    },
    {
      "cell_type": "code",
      "source": [
        "import threading\n",
        "\n",
        "def print_numbers():\n",
        "    for i in range(10):\n",
        "        print(i)\n",
        "\n",
        "thread = threading.Thread(target = print_numbers)\n",
        "thread.start()\n",
        "thread. join()"
      ],
      "metadata": {
        "id": "6t3JDv6eFOEk",
        "colab": {
          "base_uri": "https://localhost:8080/"
        },
        "outputId": "b2053164-38b0-42d4-c425-362d1d988d0b"
      },
      "execution_count": 19,
      "outputs": [
        {
          "output_type": "stream",
          "name": "stdout",
          "text": [
            "0\n",
            "1\n",
            "2\n",
            "3\n",
            "4\n",
            "5\n",
            "6\n",
            "7\n",
            "8\n",
            "9\n"
          ]
        }
      ]
    },
    {
      "cell_type": "code",
      "source": [
        "import threading\n",
        "import time\n",
        "\n",
        "A = 0\n",
        "def print_numbers():\n",
        "    global A\n",
        "    for i in range(10):\n",
        "        print(\"i\" : i)\n",
        "        print(\"A\": A)\n",
        "        A += 1\n",
        "\n",
        "        time.sleep(1)\n",
        "\n",
        "thread1 = threading.Thread(target = print_numbers)\n",
        "thread1.start()\n",
        "thread1. join()\n",
        "\n",
        "thread2 = threading.Thread(target = print_numbers)\n",
        "thread2.start()\n",
        "thread2. join()"
      ],
      "metadata": {
        "colab": {
          "base_uri": "https://localhost:8080/"
        },
        "id": "phsSKV1-tsdq",
        "outputId": "c04b3356-98d1-44f0-81ab-2417fb0e6172"
      },
      "execution_count": 22,
      "outputs": [
        {
          "output_type": "stream",
          "name": "stdout",
          "text": [
            "0\n",
            "0\n",
            "1\n",
            "1\n",
            "2\n",
            "2\n",
            "3\n",
            "3\n",
            "4\n",
            "4\n",
            "5\n",
            "5\n",
            "6\n",
            "6\n",
            "7\n",
            "7\n",
            "8\n",
            "8\n",
            "9\n",
            "9\n",
            "0\n",
            "10\n",
            "1\n",
            "11\n",
            "2\n",
            "12\n",
            "3\n",
            "13\n",
            "4\n",
            "14\n",
            "5\n",
            "15\n",
            "6\n",
            "16\n",
            "7\n",
            "17\n",
            "8\n",
            "18\n",
            "9\n",
            "19\n"
          ]
        }
      ]
    },
    {
      "cell_type": "code",
      "source": [
        "import multiprocessing\n",
        "import time\n",
        "\n",
        "\n",
        "A  = 0\n",
        "# 숫자를 출력하는 함수\n",
        "def print_numbers():\n",
        "    global A\n",
        "    for i in range(5):\n",
        "        print(\"i:\",i)\n",
        "        print(\"공통A: \", A)\n",
        "        A+=1\n",
        "        time.sleep(1)\n",
        "\n",
        "# 두 개의 프로세스 생성 및 시작\n",
        "process1 = multiprocessing.Process(target=print_numbers)\n",
        "process2 = multiprocessing.Process(target=print_numbers)\n",
        "process1.start()\n",
        "process2.start()\n",
        "process1.join()\n",
        "process2.join()"
      ],
      "metadata": {
        "colab": {
          "base_uri": "https://localhost:8080/"
        },
        "id": "2AQiCQcXtvW4",
        "outputId": "7cedefc4-c5f3-4322-de8e-f46322953147"
      },
      "execution_count": 20,
      "outputs": [
        {
          "output_type": "stream",
          "name": "stdout",
          "text": [
            "i: 0i: 0\n",
            "\n",
            "공통A: 공통A:   00\n",
            "\n",
            "i: 1\n",
            "i: 공통A: 1\n",
            "공통A:  1 \n",
            "1\n",
            "i:i:  2\n",
            "2\n",
            "공통A:  2\n",
            " 공통A: 2\n",
            "i: 3\n",
            "공통A:  3\n",
            "i: 3\n",
            "공통A:  3\n",
            "i: 4\n",
            "공통A:  \n",
            "4i: 4\n",
            "공통A:  4\n"
          ]
        }
      ]
    }
  ]
}